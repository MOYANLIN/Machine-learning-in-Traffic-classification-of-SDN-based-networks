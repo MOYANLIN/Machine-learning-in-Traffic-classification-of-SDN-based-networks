{
 "cells": [
  {
   "cell_type": "markdown",
   "metadata": {},
   "source": [
    "## Classification Tree\n",
    "\n",
    "Create a classification tree\n",
    "\n",
    " 1. Import the data from a csv file \n",
    " 2. Create the predictor variables and the target variable\n",
    " 3. Split the data into train and test dataset\n",
    " 4. Fit a decision tree model on train data \n",
    " 5. Visualize the decision tree model\n",
    " 6. Make Predictions and evaluate the performance\n"
   ]
  },
  {
   "cell_type": "markdown",
   "metadata": {},
   "source": [
    "## Import the data"
   ]
  },
  {
   "cell_type": "markdown",
   "metadata": {},
   "source": [
    "We will input raw data of flow and port statistics from a CSV file. Predictor and target variables are created using this raw data. "
   ]
  },
  {
   "cell_type": "code",
   "execution_count": 1,
   "metadata": {
    "collapsed": true
   },
   "outputs": [],
   "source": [
    "import pandas as pd\n",
    "\n",
    "\n",
    "#read voip data\n",
    "voip_flow = pd.read_csv('voip_FlowStats.csv', index_col=False).dropna().drop(columns=\"target\")\n",
    "#print(voip_flow.shape)\n",
    "voip_port = pd.read_csv('voip_PortStats.csv', index_col=False).dropna()\n",
    "voip_port = voip_port.drop(voip_port[pd.to_numeric(voip_port.port_no) > 10].index)\n",
    "#print(voip_port.shape)\n",
    "voip=pd.concat([voip_flow, voip_port], axis=1, join='inner')\n",
    "voip[\"app_label\"]=\"voip\"  #voip\n",
    "#voip.head(10)\n",
    "\n",
    "\n",
    "#read video data\n",
    "youtube_flow = pd.read_csv('youtube_FlowStats.csv', index_col=False).dropna().drop(columns=\"target\")\n",
    "youtube_port = pd.read_csv('youtube_PortStats.csv', index_col=False).dropna()\n",
    "youtube_port = youtube_port.drop(youtube_port[pd.to_numeric(youtube_port.port_no) > 10].index)\n",
    "youtube=pd.concat([youtube_flow, youtube_port], axis=1, join='inner')\n",
    "youtube[\"app_label\"]=\"video\"  #video\n",
    "\n",
    "\n",
    "#read browse data\n",
    "browse_flow = pd.read_csv('browse_FlowStats.csv', index_col=False).dropna().drop(columns=\"target\")\n",
    "browse_port = pd.read_csv('browse_PortStats.csv', index_col=False).dropna()\n",
    "browse_port = browse_port.drop(browse_port[pd.to_numeric(browse_port.port_no) > 10].index)\n",
    "browse=pd.concat([browse_flow, browse_port], axis=1, join='inner')\n",
    "browse[\"app_label\"]=\"browse\"  #cbc\n",
    "\n",
    "\n",
    "#read vimeo data\n",
    "vimeo_flow =  pd.read_csv('vimeo_FlowStats.csv', index_col=False).dropna().drop(columns=\"target\")\n",
    "vimeo_port = pd.read_csv('vimeo_PortStats.csv', index_col=False).dropna()\n",
    "vimeo_port = vimeo_port.drop(vimeo_port[pd.to_numeric(vimeo_port.port_no) > 10].index)\n",
    "vimeo=pd.concat([vimeo_flow, vimeo_port], axis=1, join='inner')\n",
    "vimeo[\"app_label\"] = \"vimeo\" #vimeo\n",
    "vimeo.head(10)\n",
    "\n",
    "hangout_flow =  pd.read_csv('hangout_FlowStats.csv', index_col=False).dropna().drop(columns=\"target\")\n",
    "hangout_port = pd.read_csv('hangout_PortStats.csv', index_col=False).dropna()\n",
    "hangout_port = hangout_port.drop(hangout_port[pd.to_numeric(hangout_port.port_no) > 10].index)\n",
    "hangout=pd.concat([hangout_flow, hangout_port], axis=1, join='inner')\n",
    "hangout[\"app_label\"] = \"hangout\" #hangout\n",
    "#hangout.head(10)\n",
    "\n",
    "\n",
    "#stack up in column\n",
    "data=pd.concat([voip, youtube, browse, vimeo, hangout], axis=0, sort=False)\n",
    "data.head(10)\n",
    "\n",
    "\n",
    "\n",
    "\n",
    "feature_list = ['in_port', 'packets', 'bytes', 'duration_sec', 'port_no','rx_bytes', 'rx_pkts', 'tx_bytes','tx_pkts']\n",
    "X = data[feature_list]\n",
    "y = data.app_label\n"
   ]
  },
  {
   "cell_type": "markdown",
   "metadata": {},
   "source": [
    "## Split the data into train and test dataset\n",
    "\n",
    "Before we build a decision tree model, we need to split the data set into train and test data. A decision tree model uses the train data to learn the properties of data and the test data to estimate the model’s accuracy of the predictions.\n",
    "\n",
    "From sklearn, we use the sub-library called model_selection, and import the train_test_split method. We will use 70% of the data set for training the model and a hold back of 30% for testing. We set the random_state parameter to a fixed number. This ensures that the data is split the same way every time and we get the same model output for each run. \n",
    "\n",
    "Another thing to keep in mind during splitting is to ensure that the test data is representative of the train data. This is done using stratify. We assign  stratify = y, so that it splits the data in same proportion as ‘y’. That means if ‘0’s were 45% and ‘1’s 55% in ‘y’, the train and test data will continue to have the same proportion of 45% and 55% of the class labels. \n"
   ]
  },
  {
   "cell_type": "code",
   "execution_count": 2,
   "metadata": {},
   "outputs": [
    {
     "name": "stdout",
     "output_type": "stream",
     "text": [
      "(2637, 9) (2637,)\n",
      "(1131, 9) (1131,)\n"
     ]
    }
   ],
   "source": [
    "from sklearn.model_selection import train_test_split\n",
    "X_train, X_test, y_train, y_test = train_test_split(X, y, test_size=0.3, random_state=42, stratify=y)\n",
    "\n",
    "# X_train, X_test, y_train, y_test = train_test_split(X, y, test_size=0.3, random_state=42)\n",
    "\n",
    "print (X_train.shape, y_train.shape)\n",
    "print (X_test.shape, y_test.shape)\n"
   ]
  },
  {
   "cell_type": "markdown",
   "metadata": {},
   "source": [
    "## Create classification tree model\n",
    "\n",
    "We have used DecisionTreeClassifier from sklearn.tree to create the classification tree model. We choose to set min_samples_leaf to 5. "
   ]
  },
  {
   "cell_type": "code",
   "execution_count": 3,
   "metadata": {},
   "outputs": [
    {
     "data": {
      "text/plain": [
       "DecisionTreeClassifier(class_weight=None, criterion='gini', max_depth=5,\n",
       "            max_features=None, max_leaf_nodes=None,\n",
       "            min_impurity_decrease=0.0, min_impurity_split=None,\n",
       "            min_samples_leaf=5, min_samples_split=2,\n",
       "            min_weight_fraction_leaf=0.0, presort=False, random_state=None,\n",
       "            splitter='best')"
      ]
     },
     "execution_count": 3,
     "metadata": {},
     "output_type": "execute_result"
    }
   ],
   "source": [
    "from sklearn.tree import DecisionTreeClassifier\n",
    "clf = DecisionTreeClassifier(criterion='gini', max_depth=5, min_samples_leaf=5) \n",
    "clf"
   ]
  },
  {
   "cell_type": "markdown",
   "metadata": {},
   "source": [
    "We create the fit() method to train the classifier on the train dataset."
   ]
  },
  {
   "cell_type": "code",
   "execution_count": 4,
   "metadata": {
    "collapsed": true
   },
   "outputs": [],
   "source": [
    "clf = clf.fit(X_train, y_train)"
   ]
  },
  {
   "cell_type": "code",
   "execution_count": 5,
   "metadata": {
    "collapsed": true
   },
   "outputs": [],
   "source": [
    "# Uncomment below line to see details of DecisionTreeClassifier\n",
    "# help(DecisionTreeClassifier)"
   ]
  },
  {
   "cell_type": "markdown",
   "metadata": {},
   "source": [
    "## Visualize the model\n",
    "\n",
    "We now visualize the classification tree created in the step below using the graphviz and sklearn's tree package."
   ]
  },
  {
   "cell_type": "code",
   "execution_count": 6,
   "metadata": {},
   "outputs": [
    {
     "data": {
      "image/svg+xml": [
       "<?xml version=\"1.0\" encoding=\"UTF-8\" standalone=\"no\"?>\r\n",
       "<!DOCTYPE svg PUBLIC \"-//W3C//DTD SVG 1.1//EN\"\r\n",
       " \"http://www.w3.org/Graphics/SVG/1.1/DTD/svg11.dtd\">\r\n",
       "<!-- Generated by graphviz version 2.38.0 (20140413.2041)\r\n",
       " -->\r\n",
       "<!-- Title: Tree Pages: 1 -->\r\n",
       "<svg width=\"1002pt\" height=\"581pt\"\r\n",
       " viewBox=\"0.00 0.00 1002.00 581.00\" xmlns=\"http://www.w3.org/2000/svg\" xmlns:xlink=\"http://www.w3.org/1999/xlink\">\r\n",
       "<g id=\"graph0\" class=\"graph\" transform=\"scale(1 1) rotate(0) translate(4 577)\">\r\n",
       "<title>Tree</title>\r\n",
       "<polygon fill=\"white\" stroke=\"none\" points=\"-4,4 -4,-577 998,-577 998,4 -4,4\"/>\r\n",
       "<!-- 0 -->\r\n",
       "<g id=\"node1\" class=\"node\"><title>0</title>\r\n",
       "<polygon fill=\"#e539c0\" fill-opacity=\"0.011765\" stroke=\"black\" points=\"730,-573 529,-573 529,-505 730,-505 730,-573\"/>\r\n",
       "<text text-anchor=\"middle\" x=\"629.5\" y=\"-557.8\" font-family=\"Times New Roman,serif\" font-size=\"14.00\">tx_pkts &lt;= 6583409.5</text>\r\n",
       "<text text-anchor=\"middle\" x=\"629.5\" y=\"-542.8\" font-family=\"Times New Roman,serif\" font-size=\"14.00\">gini = 0.8</text>\r\n",
       "<text text-anchor=\"middle\" x=\"629.5\" y=\"-527.8\" font-family=\"Times New Roman,serif\" font-size=\"14.00\">samples = 2637</text>\r\n",
       "<text text-anchor=\"middle\" x=\"629.5\" y=\"-512.8\" font-family=\"Times New Roman,serif\" font-size=\"14.00\">value = [532, 496, 526, 523, 560]</text>\r\n",
       "</g>\r\n",
       "<!-- 1 -->\r\n",
       "<g id=\"node2\" class=\"node\"><title>1</title>\r\n",
       "<polygon fill=\"#e539c0\" fill-opacity=\"0.023529\" stroke=\"black\" points=\"595,-469 414,-469 414,-401 595,-401 595,-469\"/>\r\n",
       "<text text-anchor=\"middle\" x=\"504.5\" y=\"-453.8\" font-family=\"Times New Roman,serif\" font-size=\"14.00\">packets &lt;= 135211.5</text>\r\n",
       "<text text-anchor=\"middle\" x=\"504.5\" y=\"-438.8\" font-family=\"Times New Roman,serif\" font-size=\"14.00\">gini = 0.678</text>\r\n",
       "<text text-anchor=\"middle\" x=\"504.5\" y=\"-423.8\" font-family=\"Times New Roman,serif\" font-size=\"14.00\">samples = 1649</text>\r\n",
       "<text text-anchor=\"middle\" x=\"504.5\" y=\"-408.8\" font-family=\"Times New Roman,serif\" font-size=\"14.00\">value = [532, 0, 526, 31, 560]</text>\r\n",
       "</g>\r\n",
       "<!-- 0&#45;&gt;1 -->\r\n",
       "<g id=\"edge1\" class=\"edge\"><title>0&#45;&gt;1</title>\r\n",
       "<path fill=\"none\" stroke=\"black\" d=\"M588.916,-504.884C577.564,-495.62 565.106,-485.455 553.33,-475.845\"/>\r\n",
       "<polygon fill=\"black\" stroke=\"black\" points=\"555.269,-472.91 545.308,-469.299 550.843,-478.333 555.269,-472.91\"/>\r\n",
       "<text text-anchor=\"middle\" x=\"547.828\" y=\"-490.472\" font-family=\"Times New Roman,serif\" font-size=\"14.00\">True</text>\r\n",
       "</g>\r\n",
       "<!-- 12 -->\r\n",
       "<g id=\"node13\" class=\"node\"><title>12</title>\r\n",
       "<polygon fill=\"#7be539\" fill-opacity=\"0.007843\" stroke=\"black\" points=\"836,-469 675,-469 675,-401 836,-401 836,-469\"/>\r\n",
       "<text text-anchor=\"middle\" x=\"755.5\" y=\"-453.8\" font-family=\"Times New Roman,serif\" font-size=\"14.00\">packets &lt;= 13701.5</text>\r\n",
       "<text text-anchor=\"middle\" x=\"755.5\" y=\"-438.8\" font-family=\"Times New Roman,serif\" font-size=\"14.00\">gini = 0.5</text>\r\n",
       "<text text-anchor=\"middle\" x=\"755.5\" y=\"-423.8\" font-family=\"Times New Roman,serif\" font-size=\"14.00\">samples = 988</text>\r\n",
       "<text text-anchor=\"middle\" x=\"755.5\" y=\"-408.8\" font-family=\"Times New Roman,serif\" font-size=\"14.00\">value = [0, 496, 0, 492, 0]</text>\r\n",
       "</g>\r\n",
       "<!-- 0&#45;&gt;12 -->\r\n",
       "<g id=\"edge12\" class=\"edge\"><title>0&#45;&gt;12</title>\r\n",
       "<path fill=\"none\" stroke=\"black\" d=\"M670.409,-504.884C681.852,-495.62 694.409,-485.455 706.279,-475.845\"/>\r\n",
       "<polygon fill=\"black\" stroke=\"black\" points=\"708.795,-478.312 714.365,-469.299 704.391,-472.871 708.795,-478.312\"/>\r\n",
       "<text text-anchor=\"middle\" x=\"711.748\" y=\"-490.462\" font-family=\"Times New Roman,serif\" font-size=\"14.00\">False</text>\r\n",
       "</g>\r\n",
       "<!-- 2 -->\r\n",
       "<g id=\"node3\" class=\"node\"><title>2</title>\r\n",
       "<polygon fill=\"#e539c0\" fill-opacity=\"0.039216\" stroke=\"black\" points=\"346,-365 165,-365 165,-297 346,-297 346,-365\"/>\r\n",
       "<text text-anchor=\"middle\" x=\"255.5\" y=\"-349.8\" font-family=\"Times New Roman,serif\" font-size=\"14.00\">tx_pkts &lt;= 4826308.5</text>\r\n",
       "<text text-anchor=\"middle\" x=\"255.5\" y=\"-334.8\" font-family=\"Times New Roman,serif\" font-size=\"14.00\">gini = 0.601</text>\r\n",
       "<text text-anchor=\"middle\" x=\"255.5\" y=\"-319.8\" font-family=\"Times New Roman,serif\" font-size=\"14.00\">samples = 1241</text>\r\n",
       "<text text-anchor=\"middle\" x=\"255.5\" y=\"-304.8\" font-family=\"Times New Roman,serif\" font-size=\"14.00\">value = [532, 0, 134, 15, 560]</text>\r\n",
       "</g>\r\n",
       "<!-- 1&#45;&gt;2 -->\r\n",
       "<g id=\"edge2\" class=\"edge\"><title>1&#45;&gt;2</title>\r\n",
       "<path fill=\"none\" stroke=\"black\" d=\"M423.657,-400.884C398.742,-390.677 371.156,-379.377 345.655,-368.931\"/>\r\n",
       "<polygon fill=\"black\" stroke=\"black\" points=\"346.944,-365.677 336.363,-365.125 344.29,-372.154 346.944,-365.677\"/>\r\n",
       "</g>\r\n",
       "<!-- 9 -->\r\n",
       "<g id=\"node10\" class=\"node\"><title>9</title>\r\n",
       "<polygon fill=\"#39e5c5\" fill-opacity=\"0.960784\" stroke=\"black\" points=\"581.5,-365 427.5,-365 427.5,-297 581.5,-297 581.5,-365\"/>\r\n",
       "<text text-anchor=\"middle\" x=\"504.5\" y=\"-349.8\" font-family=\"Times New Roman,serif\" font-size=\"14.00\">duration_sec &lt;= 272.5</text>\r\n",
       "<text text-anchor=\"middle\" x=\"504.5\" y=\"-334.8\" font-family=\"Times New Roman,serif\" font-size=\"14.00\">gini = 0.075</text>\r\n",
       "<text text-anchor=\"middle\" x=\"504.5\" y=\"-319.8\" font-family=\"Times New Roman,serif\" font-size=\"14.00\">samples = 408</text>\r\n",
       "<text text-anchor=\"middle\" x=\"504.5\" y=\"-304.8\" font-family=\"Times New Roman,serif\" font-size=\"14.00\">value = [0, 0, 392, 16, 0]</text>\r\n",
       "</g>\r\n",
       "<!-- 1&#45;&gt;9 -->\r\n",
       "<g id=\"edge9\" class=\"edge\"><title>1&#45;&gt;9</title>\r\n",
       "<path fill=\"none\" stroke=\"black\" d=\"M504.5,-400.884C504.5,-392.778 504.5,-383.982 504.5,-375.472\"/>\r\n",
       "<polygon fill=\"black\" stroke=\"black\" points=\"508,-375.299 504.5,-365.299 501,-375.299 508,-375.299\"/>\r\n",
       "</g>\r\n",
       "<!-- 3 -->\r\n",
       "<g id=\"node4\" class=\"node\"><title>3</title>\r\n",
       "<polygon fill=\"#e539c0\" stroke=\"black\" points=\"147,-253.5 0,-253.5 0,-200.5 147,-200.5 147,-253.5\"/>\r\n",
       "<text text-anchor=\"middle\" x=\"73.5\" y=\"-238.3\" font-family=\"Times New Roman,serif\" font-size=\"14.00\">gini = 0.0</text>\r\n",
       "<text text-anchor=\"middle\" x=\"73.5\" y=\"-223.3\" font-family=\"Times New Roman,serif\" font-size=\"14.00\">samples = 373</text>\r\n",
       "<text text-anchor=\"middle\" x=\"73.5\" y=\"-208.3\" font-family=\"Times New Roman,serif\" font-size=\"14.00\">value = [0, 0, 0, 0, 373]</text>\r\n",
       "</g>\r\n",
       "<!-- 2&#45;&gt;3 -->\r\n",
       "<g id=\"edge3\" class=\"edge\"><title>2&#45;&gt;3</title>\r\n",
       "<path fill=\"none\" stroke=\"black\" d=\"M196.41,-296.884C174.333,-284.511 149.388,-270.53 127.767,-258.413\"/>\r\n",
       "<polygon fill=\"black\" stroke=\"black\" points=\"129.47,-255.356 119.036,-253.52 126.048,-261.462 129.47,-255.356\"/>\r\n",
       "</g>\r\n",
       "<!-- 4 -->\r\n",
       "<g id=\"node5\" class=\"node\"><title>4</title>\r\n",
       "<polygon fill=\"#e58139\" fill-opacity=\"0.505882\" stroke=\"black\" points=\"346,-261 165,-261 165,-193 346,-193 346,-261\"/>\r\n",
       "<text text-anchor=\"middle\" x=\"255.5\" y=\"-245.8\" font-family=\"Times New Roman,serif\" font-size=\"14.00\">rx_pkts &lt;= 4825125.5</text>\r\n",
       "<text text-anchor=\"middle\" x=\"255.5\" y=\"-230.8\" font-family=\"Times New Roman,serif\" font-size=\"14.00\">gini = 0.554</text>\r\n",
       "<text text-anchor=\"middle\" x=\"255.5\" y=\"-215.8\" font-family=\"Times New Roman,serif\" font-size=\"14.00\">samples = 868</text>\r\n",
       "<text text-anchor=\"middle\" x=\"255.5\" y=\"-200.8\" font-family=\"Times New Roman,serif\" font-size=\"14.00\">value = [532, 0, 134, 15, 187]</text>\r\n",
       "</g>\r\n",
       "<!-- 2&#45;&gt;4 -->\r\n",
       "<g id=\"edge4\" class=\"edge\"><title>2&#45;&gt;4</title>\r\n",
       "<path fill=\"none\" stroke=\"black\" d=\"M255.5,-296.884C255.5,-288.778 255.5,-279.982 255.5,-271.472\"/>\r\n",
       "<polygon fill=\"black\" stroke=\"black\" points=\"259,-271.299 255.5,-261.299 252,-271.299 259,-271.299\"/>\r\n",
       "</g>\r\n",
       "<!-- 5 -->\r\n",
       "<g id=\"node6\" class=\"node\"><title>5</title>\r\n",
       "<polygon fill=\"#e539c0\" stroke=\"black\" points=\"241,-149.5 94,-149.5 94,-96.5 241,-96.5 241,-149.5\"/>\r\n",
       "<text text-anchor=\"middle\" x=\"167.5\" y=\"-134.3\" font-family=\"Times New Roman,serif\" font-size=\"14.00\">gini = 0.0</text>\r\n",
       "<text text-anchor=\"middle\" x=\"167.5\" y=\"-119.3\" font-family=\"Times New Roman,serif\" font-size=\"14.00\">samples = 187</text>\r\n",
       "<text text-anchor=\"middle\" x=\"167.5\" y=\"-104.3\" font-family=\"Times New Roman,serif\" font-size=\"14.00\">value = [0, 0, 0, 0, 187]</text>\r\n",
       "</g>\r\n",
       "<!-- 4&#45;&gt;5 -->\r\n",
       "<g id=\"edge5\" class=\"edge\"><title>4&#45;&gt;5</title>\r\n",
       "<path fill=\"none\" stroke=\"black\" d=\"M226.929,-192.884C217.061,-181.446 206.008,-168.634 196.135,-157.19\"/>\r\n",
       "<polygon fill=\"black\" stroke=\"black\" points=\"198.7,-154.805 189.517,-149.52 193.4,-159.378 198.7,-154.805\"/>\r\n",
       "</g>\r\n",
       "<!-- 6 -->\r\n",
       "<g id=\"node7\" class=\"node\"><title>6</title>\r\n",
       "<polygon fill=\"#e58139\" fill-opacity=\"0.729412\" stroke=\"black\" points=\"426,-157 259,-157 259,-89 426,-89 426,-157\"/>\r\n",
       "<text text-anchor=\"middle\" x=\"342.5\" y=\"-141.8\" font-family=\"Times New Roman,serif\" font-size=\"14.00\">packets &lt;= 36298.0</text>\r\n",
       "<text text-anchor=\"middle\" x=\"342.5\" y=\"-126.8\" font-family=\"Times New Roman,serif\" font-size=\"14.00\">gini = 0.351</text>\r\n",
       "<text text-anchor=\"middle\" x=\"342.5\" y=\"-111.8\" font-family=\"Times New Roman,serif\" font-size=\"14.00\">samples = 681</text>\r\n",
       "<text text-anchor=\"middle\" x=\"342.5\" y=\"-96.8\" font-family=\"Times New Roman,serif\" font-size=\"14.00\">value = [532, 0, 134, 15, 0]</text>\r\n",
       "</g>\r\n",
       "<!-- 4&#45;&gt;6 -->\r\n",
       "<g id=\"edge6\" class=\"edge\"><title>4&#45;&gt;6</title>\r\n",
       "<path fill=\"none\" stroke=\"black\" d=\"M283.746,-192.884C291.344,-183.976 299.652,-174.235 307.566,-164.957\"/>\r\n",
       "<polygon fill=\"black\" stroke=\"black\" points=\"310.271,-167.179 314.098,-157.299 304.945,-162.636 310.271,-167.179\"/>\r\n",
       "</g>\r\n",
       "<!-- 7 -->\r\n",
       "<g id=\"node8\" class=\"node\"><title>7</title>\r\n",
       "<polygon fill=\"#e58139\" fill-opacity=\"0.933333\" stroke=\"black\" points=\"333.5,-53 179.5,-53 179.5,-0 333.5,-0 333.5,-53\"/>\r\n",
       "<text text-anchor=\"middle\" x=\"256.5\" y=\"-37.8\" font-family=\"Times New Roman,serif\" font-size=\"14.00\">gini = 0.12</text>\r\n",
       "<text text-anchor=\"middle\" x=\"256.5\" y=\"-22.8\" font-family=\"Times New Roman,serif\" font-size=\"14.00\">samples = 568</text>\r\n",
       "<text text-anchor=\"middle\" x=\"256.5\" y=\"-7.8\" font-family=\"Times New Roman,serif\" font-size=\"14.00\">value = [532, 0, 32, 4, 0]</text>\r\n",
       "</g>\r\n",
       "<!-- 6&#45;&gt;7 -->\r\n",
       "<g id=\"edge7\" class=\"edge\"><title>6&#45;&gt;7</title>\r\n",
       "<path fill=\"none\" stroke=\"black\" d=\"M312.421,-88.9485C304.096,-79.8005 295.059,-69.8697 286.725,-60.7126\"/>\r\n",
       "<polygon fill=\"black\" stroke=\"black\" points=\"289.241,-58.2769 279.922,-53.2367 284.064,-62.9883 289.241,-58.2769\"/>\r\n",
       "</g>\r\n",
       "<!-- 8 -->\r\n",
       "<g id=\"node9\" class=\"node\"><title>8</title>\r\n",
       "<polygon fill=\"#39e5c5\" fill-opacity=\"0.890196\" stroke=\"black\" points=\"505.5,-53 351.5,-53 351.5,-0 505.5,-0 505.5,-53\"/>\r\n",
       "<text text-anchor=\"middle\" x=\"428.5\" y=\"-37.8\" font-family=\"Times New Roman,serif\" font-size=\"14.00\">gini = 0.176</text>\r\n",
       "<text text-anchor=\"middle\" x=\"428.5\" y=\"-22.8\" font-family=\"Times New Roman,serif\" font-size=\"14.00\">samples = 113</text>\r\n",
       "<text text-anchor=\"middle\" x=\"428.5\" y=\"-7.8\" font-family=\"Times New Roman,serif\" font-size=\"14.00\">value = [0, 0, 102, 11, 0]</text>\r\n",
       "</g>\r\n",
       "<!-- 6&#45;&gt;8 -->\r\n",
       "<g id=\"edge8\" class=\"edge\"><title>6&#45;&gt;8</title>\r\n",
       "<path fill=\"none\" stroke=\"black\" d=\"M372.579,-88.9485C380.904,-79.8005 389.941,-69.8697 398.275,-60.7126\"/>\r\n",
       "<polygon fill=\"black\" stroke=\"black\" points=\"400.936,-62.9883 405.078,-53.2367 395.759,-58.2769 400.936,-62.9883\"/>\r\n",
       "</g>\r\n",
       "<!-- 10 -->\r\n",
       "<g id=\"node11\" class=\"node\"><title>10</title>\r\n",
       "<polygon fill=\"#3c39e5\" stroke=\"black\" points=\"504.5,-253.5 364.5,-253.5 364.5,-200.5 504.5,-200.5 504.5,-253.5\"/>\r\n",
       "<text text-anchor=\"middle\" x=\"434.5\" y=\"-238.3\" font-family=\"Times New Roman,serif\" font-size=\"14.00\">gini = 0.0</text>\r\n",
       "<text text-anchor=\"middle\" x=\"434.5\" y=\"-223.3\" font-family=\"Times New Roman,serif\" font-size=\"14.00\">samples = 16</text>\r\n",
       "<text text-anchor=\"middle\" x=\"434.5\" y=\"-208.3\" font-family=\"Times New Roman,serif\" font-size=\"14.00\">value = [0, 0, 0, 16, 0]</text>\r\n",
       "</g>\r\n",
       "<!-- 9&#45;&gt;10 -->\r\n",
       "<g id=\"edge10\" class=\"edge\"><title>9&#45;&gt;10</title>\r\n",
       "<path fill=\"none\" stroke=\"black\" d=\"M481.773,-296.884C474.074,-285.666 465.469,-273.126 457.732,-261.852\"/>\r\n",
       "<polygon fill=\"black\" stroke=\"black\" points=\"460.558,-259.785 452.014,-253.52 454.786,-263.746 460.558,-259.785\"/>\r\n",
       "</g>\r\n",
       "<!-- 11 -->\r\n",
       "<g id=\"node12\" class=\"node\"><title>11</title>\r\n",
       "<polygon fill=\"#39e5c5\" stroke=\"black\" points=\"670,-253.5 523,-253.5 523,-200.5 670,-200.5 670,-253.5\"/>\r\n",
       "<text text-anchor=\"middle\" x=\"596.5\" y=\"-238.3\" font-family=\"Times New Roman,serif\" font-size=\"14.00\">gini = 0.0</text>\r\n",
       "<text text-anchor=\"middle\" x=\"596.5\" y=\"-223.3\" font-family=\"Times New Roman,serif\" font-size=\"14.00\">samples = 392</text>\r\n",
       "<text text-anchor=\"middle\" x=\"596.5\" y=\"-208.3\" font-family=\"Times New Roman,serif\" font-size=\"14.00\">value = [0, 0, 392, 0, 0]</text>\r\n",
       "</g>\r\n",
       "<!-- 9&#45;&gt;11 -->\r\n",
       "<g id=\"edge11\" class=\"edge\"><title>9&#45;&gt;11</title>\r\n",
       "<path fill=\"none\" stroke=\"black\" d=\"M534.37,-296.884C544.686,-285.446 556.242,-272.634 566.564,-261.19\"/>\r\n",
       "<polygon fill=\"black\" stroke=\"black\" points=\"569.383,-263.29 573.482,-253.52 564.185,-258.601 569.383,-263.29\"/>\r\n",
       "</g>\r\n",
       "<!-- 13 -->\r\n",
       "<g id=\"node14\" class=\"node\"><title>13</title>\r\n",
       "<polygon fill=\"#7be539\" fill-opacity=\"0.992157\" stroke=\"black\" points=\"829,-365 682,-365 682,-297 829,-297 829,-365\"/>\r\n",
       "<text text-anchor=\"middle\" x=\"755.5\" y=\"-349.8\" font-family=\"Times New Roman,serif\" font-size=\"14.00\">duration_sec &lt;= 63.0</text>\r\n",
       "<text text-anchor=\"middle\" x=\"755.5\" y=\"-334.8\" font-family=\"Times New Roman,serif\" font-size=\"14.00\">gini = 0.016</text>\r\n",
       "<text text-anchor=\"middle\" x=\"755.5\" y=\"-319.8\" font-family=\"Times New Roman,serif\" font-size=\"14.00\">samples = 500</text>\r\n",
       "<text text-anchor=\"middle\" x=\"755.5\" y=\"-304.8\" font-family=\"Times New Roman,serif\" font-size=\"14.00\">value = [0, 496, 0, 4, 0]</text>\r\n",
       "</g>\r\n",
       "<!-- 12&#45;&gt;13 -->\r\n",
       "<g id=\"edge13\" class=\"edge\"><title>12&#45;&gt;13</title>\r\n",
       "<path fill=\"none\" stroke=\"black\" d=\"M755.5,-400.884C755.5,-392.778 755.5,-383.982 755.5,-375.472\"/>\r\n",
       "<polygon fill=\"black\" stroke=\"black\" points=\"759,-375.299 755.5,-365.299 752,-375.299 759,-375.299\"/>\r\n",
       "</g>\r\n",
       "<!-- 16 -->\r\n",
       "<g id=\"node17\" class=\"node\"><title>16</title>\r\n",
       "<polygon fill=\"#3c39e5\" stroke=\"black\" points=\"994,-357.5 847,-357.5 847,-304.5 994,-304.5 994,-357.5\"/>\r\n",
       "<text text-anchor=\"middle\" x=\"920.5\" y=\"-342.3\" font-family=\"Times New Roman,serif\" font-size=\"14.00\">gini = 0.0</text>\r\n",
       "<text text-anchor=\"middle\" x=\"920.5\" y=\"-327.3\" font-family=\"Times New Roman,serif\" font-size=\"14.00\">samples = 488</text>\r\n",
       "<text text-anchor=\"middle\" x=\"920.5\" y=\"-312.3\" font-family=\"Times New Roman,serif\" font-size=\"14.00\">value = [0, 0, 0, 488, 0]</text>\r\n",
       "</g>\r\n",
       "<!-- 12&#45;&gt;16 -->\r\n",
       "<g id=\"edge16\" class=\"edge\"><title>12&#45;&gt;16</title>\r\n",
       "<path fill=\"none\" stroke=\"black\" d=\"M809.071,-400.884C828.818,-388.676 851.098,-374.903 870.517,-362.899\"/>\r\n",
       "<polygon fill=\"black\" stroke=\"black\" points=\"872.552,-365.755 879.218,-357.52 868.871,-359.801 872.552,-365.755\"/>\r\n",
       "</g>\r\n",
       "<!-- 14 -->\r\n",
       "<g id=\"node15\" class=\"node\"><title>14</title>\r\n",
       "<polygon fill=\"#3c39e5\" fill-opacity=\"0.749020\" stroke=\"black\" points=\"822.5,-253.5 688.5,-253.5 688.5,-200.5 822.5,-200.5 822.5,-253.5\"/>\r\n",
       "<text text-anchor=\"middle\" x=\"755.5\" y=\"-238.3\" font-family=\"Times New Roman,serif\" font-size=\"14.00\">gini = 0.32</text>\r\n",
       "<text text-anchor=\"middle\" x=\"755.5\" y=\"-223.3\" font-family=\"Times New Roman,serif\" font-size=\"14.00\">samples = 5</text>\r\n",
       "<text text-anchor=\"middle\" x=\"755.5\" y=\"-208.3\" font-family=\"Times New Roman,serif\" font-size=\"14.00\">value = [0, 1, 0, 4, 0]</text>\r\n",
       "</g>\r\n",
       "<!-- 13&#45;&gt;14 -->\r\n",
       "<g id=\"edge14\" class=\"edge\"><title>13&#45;&gt;14</title>\r\n",
       "<path fill=\"none\" stroke=\"black\" d=\"M755.5,-296.884C755.5,-286.326 755.5,-274.597 755.5,-263.854\"/>\r\n",
       "<polygon fill=\"black\" stroke=\"black\" points=\"759,-263.52 755.5,-253.52 752,-263.52 759,-263.52\"/>\r\n",
       "</g>\r\n",
       "<!-- 15 -->\r\n",
       "<g id=\"node16\" class=\"node\"><title>15</title>\r\n",
       "<polygon fill=\"#7be539\" stroke=\"black\" points=\"988,-253.5 841,-253.5 841,-200.5 988,-200.5 988,-253.5\"/>\r\n",
       "<text text-anchor=\"middle\" x=\"914.5\" y=\"-238.3\" font-family=\"Times New Roman,serif\" font-size=\"14.00\">gini = 0.0</text>\r\n",
       "<text text-anchor=\"middle\" x=\"914.5\" y=\"-223.3\" font-family=\"Times New Roman,serif\" font-size=\"14.00\">samples = 495</text>\r\n",
       "<text text-anchor=\"middle\" x=\"914.5\" y=\"-208.3\" font-family=\"Times New Roman,serif\" font-size=\"14.00\">value = [0, 495, 0, 0, 0]</text>\r\n",
       "</g>\r\n",
       "<!-- 13&#45;&gt;15 -->\r\n",
       "<g id=\"edge15\" class=\"edge\"><title>13&#45;&gt;15</title>\r\n",
       "<path fill=\"none\" stroke=\"black\" d=\"M807.123,-296.884C826.067,-284.731 847.428,-271.027 866.081,-259.061\"/>\r\n",
       "<polygon fill=\"black\" stroke=\"black\" points=\"868.192,-261.865 874.719,-253.52 864.412,-255.974 868.192,-261.865\"/>\r\n",
       "</g>\r\n",
       "</g>\r\n",
       "</svg>\r\n"
      ],
      "text/plain": [
       "<graphviz.files.Source at 0x27f0b9665c0>"
      ]
     },
     "execution_count": 6,
     "metadata": {},
     "output_type": "execute_result"
    }
   ],
   "source": [
    "import os\n",
    "os.environ[\"PATH\"] += os.pathsep + 'C:/Program Files (x86)/Graphviz2.38/bin/'\n",
    "\n",
    "from sklearn import tree\n",
    "import graphviz\n",
    "dot_data = tree.export_graphviz(clf, out_file=None,filled=True,feature_names=feature_list)   \n",
    "graphviz.Source(dot_data) "
   ]
  },
  {
   "cell_type": "markdown",
   "metadata": {},
   "source": [
    "As can be seen in the tree, every node contains some information: \n",
    "    \n",
    " 1. the predictor variable used to split the data set.  \n",
    " 2. the value of gini impurity, \n",
    " 3. the number of data points available at that node and \n",
    " 4. the number of target variable data points belonging to each class."
   ]
  },
  {
   "cell_type": "markdown",
   "metadata": {},
   "source": [
    "## Make Predictions\n",
    "\n",
    "Once we have trained the decision tree classifier, we make predictions on the test data. To make predictions, the predict method of\n",
    "the DecisionTreeClassifier class is used.\n"
   ]
  },
  {
   "cell_type": "code",
   "execution_count": 7,
   "metadata": {
    "collapsed": true
   },
   "outputs": [],
   "source": [
    "y_train_pred = clf.predict(X_train)\n",
    "y_pred = clf.predict(X_test)"
   ]
  },
  {
   "cell_type": "code",
   "execution_count": 8,
   "metadata": {},
   "outputs": [
    {
     "data": {
      "text/plain": [
       "['tree_app.pkl']"
      ]
     },
     "execution_count": 8,
     "metadata": {},
     "output_type": "execute_result"
    }
   ],
   "source": [
    "from sklearn.externals import joblib\n",
    "joblib.dump(clf, 'tree_app.pkl', compress=9)"
   ]
  },
  {
   "cell_type": "code",
   "execution_count": 9,
   "metadata": {},
   "outputs": [
    {
     "name": "stdout",
     "output_type": "stream",
     "text": [
      "0.981797497156\n",
      "0.974358974359\n"
     ]
    }
   ],
   "source": [
    "from sklearn.metrics import accuracy_score\n",
    "print(accuracy_score(y_train, y_train_pred))\n",
    "print(accuracy_score(y_test, y_pred))"
   ]
  },
  {
   "cell_type": "markdown",
   "metadata": {},
   "source": [
    "## Evaluate the Model Performance\n",
    "\n",
    "Scikit-learn provides performance report for classification problems. The report prints  measures like precision, recall, F1-score and support for each class. Precision and recall indicate the quality of our predictions. The f1-score gives the harmonic mean of precision and recall. The support values are used as weights to compute the average values of precision, recall and F-1.\n",
    "\n"
   ]
  },
  {
   "cell_type": "code",
   "execution_count": 10,
   "metadata": {},
   "outputs": [
    {
     "name": "stdout",
     "output_type": "stream",
     "text": [
      "              precision    recall  f1-score   support\n",
      "\n",
      "      browse       0.93      1.00      0.96       228\n",
      "     hangout       1.00      0.98      0.99       212\n",
      "       video       0.97      0.93      0.95       226\n",
      "       vimeo       0.98      0.96      0.97       225\n",
      "        voip       1.00      1.00      1.00       240\n",
      "\n",
      "   micro avg       0.97      0.97      0.97      1131\n",
      "   macro avg       0.98      0.97      0.97      1131\n",
      "weighted avg       0.98      0.97      0.97      1131\n",
      "\n"
     ]
    }
   ],
   "source": [
    "from sklearn.metrics import classification_report\n",
    "report = classification_report(y_test, y_pred)\n",
    "print(report)"
   ]
  }
 ],
 "metadata": {
  "kernelspec": {
   "display_name": "py35",
   "language": "python",
   "name": "py35"
  },
  "language_info": {
   "codemirror_mode": {
    "name": "ipython",
    "version": 3
   },
   "file_extension": ".py",
   "mimetype": "text/x-python",
   "name": "python",
   "nbconvert_exporter": "python",
   "pygments_lexer": "ipython3",
   "version": "3.5.6"
  }
 },
 "nbformat": 4,
 "nbformat_minor": 2
}
