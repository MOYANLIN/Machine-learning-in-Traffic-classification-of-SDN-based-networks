{
 "cells": [
  {
   "cell_type": "code",
   "execution_count": 180,
   "metadata": {
    "collapsed": true
   },
   "outputs": [],
   "source": [
    "from sklearn.cluster import KMeans\n",
    "import pandas as pd\n",
    "import numpy as np\n",
    "from sklearn import preprocessing\n",
    "from sklearn.model_selection import train_test_split\n",
    "from sklearn.feature_selection import SelectKBest\n",
    "from sklearn.feature_selection import chi2\n",
    "from sklearn.utils import shuffle\n",
    "import matplotlib.pyplot as plt"
   ]
  },
  {
   "cell_type": "markdown",
   "metadata": {},
   "source": [
    "## Data Processing\n",
    "### load data"
   ]
  },
  {
   "cell_type": "code",
   "execution_count": 181,
   "metadata": {
    "collapsed": false
   },
   "outputs": [
    {
     "data": {
      "text/html": [
       "<div>\n",
       "<table border=\"1\" class=\"dataframe\">\n",
       "  <thead>\n",
       "    <tr style=\"text-align: right;\">\n",
       "      <th></th>\n",
       "      <th>dp_id</th>\n",
       "      <th>in_port</th>\n",
       "      <th>eth_dst</th>\n",
       "      <th>packets</th>\n",
       "      <th>bytes</th>\n",
       "      <th>duration_sec</th>\n",
       "      <th>length</th>\n",
       "      <th>port_no</th>\n",
       "      <th>rx_bytes</th>\n",
       "      <th>rx_pkts</th>\n",
       "      <th>tx_bytes</th>\n",
       "      <th>tx_pkts</th>\n",
       "      <th>target</th>\n",
       "    </tr>\n",
       "  </thead>\n",
       "  <tbody>\n",
       "    <tr>\n",
       "      <th>0</th>\n",
       "      <td>3.390000e+13</td>\n",
       "      <td>1</td>\n",
       "      <td>86:08:c1:b2:a1:06</td>\n",
       "      <td>491</td>\n",
       "      <td>75716</td>\n",
       "      <td>13</td>\n",
       "      <td>96</td>\n",
       "      <td>1</td>\n",
       "      <td>79449692</td>\n",
       "      <td>1015986</td>\n",
       "      <td>8502207197</td>\n",
       "      <td>1091698</td>\n",
       "      <td>voip</td>\n",
       "    </tr>\n",
       "    <tr>\n",
       "      <th>1</th>\n",
       "      <td>3.390000e+13</td>\n",
       "      <td>2</td>\n",
       "      <td>5e:b4:50:71:9d:aa</td>\n",
       "      <td>341</td>\n",
       "      <td>45745</td>\n",
       "      <td>13</td>\n",
       "      <td>96</td>\n",
       "      <td>2</td>\n",
       "      <td>8502209399</td>\n",
       "      <td>1091714</td>\n",
       "      <td>79445946</td>\n",
       "      <td>1015960</td>\n",
       "      <td>voip</td>\n",
       "    </tr>\n",
       "    <tr>\n",
       "      <th>2</th>\n",
       "      <td>1.390000e+14</td>\n",
       "      <td>1</td>\n",
       "      <td>5e:b4:50:71:9d:aa</td>\n",
       "      <td>343</td>\n",
       "      <td>46020</td>\n",
       "      <td>13</td>\n",
       "      <td>96</td>\n",
       "      <td>1</td>\n",
       "      <td>8504362430</td>\n",
       "      <td>1125116</td>\n",
       "      <td>79448215</td>\n",
       "      <td>1016005</td>\n",
       "      <td>voip</td>\n",
       "    </tr>\n",
       "    <tr>\n",
       "      <th>3</th>\n",
       "      <td>1.390000e+14</td>\n",
       "      <td>2</td>\n",
       "      <td>86:08:c1:b2:a1:06</td>\n",
       "      <td>494</td>\n",
       "      <td>76185</td>\n",
       "      <td>13</td>\n",
       "      <td>96</td>\n",
       "      <td>2</td>\n",
       "      <td>79457301</td>\n",
       "      <td>1016065</td>\n",
       "      <td>8504357092</td>\n",
       "      <td>1125078</td>\n",
       "      <td>voip</td>\n",
       "    </tr>\n",
       "    <tr>\n",
       "      <th>4</th>\n",
       "      <td>3.390000e+13</td>\n",
       "      <td>1</td>\n",
       "      <td>86:08:c1:b2:a1:06</td>\n",
       "      <td>1244</td>\n",
       "      <td>193435</td>\n",
       "      <td>18</td>\n",
       "      <td>96</td>\n",
       "      <td>1</td>\n",
       "      <td>79567411</td>\n",
       "      <td>1016739</td>\n",
       "      <td>8502276222</td>\n",
       "      <td>1092200</td>\n",
       "      <td>voip</td>\n",
       "    </tr>\n",
       "    <tr>\n",
       "      <th>5</th>\n",
       "      <td>3.390000e+13</td>\n",
       "      <td>2</td>\n",
       "      <td>5e:b4:50:71:9d:aa</td>\n",
       "      <td>843</td>\n",
       "      <td>114770</td>\n",
       "      <td>18</td>\n",
       "      <td>96</td>\n",
       "      <td>2</td>\n",
       "      <td>8502278424</td>\n",
       "      <td>1092216</td>\n",
       "      <td>79563665</td>\n",
       "      <td>1016713</td>\n",
       "      <td>voip</td>\n",
       "    </tr>\n",
       "    <tr>\n",
       "      <th>6</th>\n",
       "      <td>1.390000e+14</td>\n",
       "      <td>1</td>\n",
       "      <td>5e:b4:50:71:9d:aa</td>\n",
       "      <td>843</td>\n",
       "      <td>114770</td>\n",
       "      <td>18</td>\n",
       "      <td>96</td>\n",
       "      <td>1</td>\n",
       "      <td>8504431180</td>\n",
       "      <td>1125616</td>\n",
       "      <td>79565465</td>\n",
       "      <td>1016755</td>\n",
       "      <td>voip</td>\n",
       "    </tr>\n",
       "    <tr>\n",
       "      <th>7</th>\n",
       "      <td>1.390000e+14</td>\n",
       "      <td>2</td>\n",
       "      <td>86:08:c1:b2:a1:06</td>\n",
       "      <td>1244</td>\n",
       "      <td>193435</td>\n",
       "      <td>18</td>\n",
       "      <td>96</td>\n",
       "      <td>2</td>\n",
       "      <td>79574551</td>\n",
       "      <td>1016815</td>\n",
       "      <td>8504425842</td>\n",
       "      <td>1125578</td>\n",
       "      <td>voip</td>\n",
       "    </tr>\n",
       "    <tr>\n",
       "      <th>8</th>\n",
       "      <td>3.390000e+13</td>\n",
       "      <td>1</td>\n",
       "      <td>86:08:c1:b2:a1:06</td>\n",
       "      <td>1994</td>\n",
       "      <td>310685</td>\n",
       "      <td>23</td>\n",
       "      <td>96</td>\n",
       "      <td>1</td>\n",
       "      <td>79684661</td>\n",
       "      <td>1017489</td>\n",
       "      <td>8502344972</td>\n",
       "      <td>1092700</td>\n",
       "      <td>voip</td>\n",
       "    </tr>\n",
       "    <tr>\n",
       "      <th>9</th>\n",
       "      <td>3.390000e+13</td>\n",
       "      <td>2</td>\n",
       "      <td>5e:b4:50:71:9d:aa</td>\n",
       "      <td>1343</td>\n",
       "      <td>183520</td>\n",
       "      <td>23</td>\n",
       "      <td>96</td>\n",
       "      <td>2</td>\n",
       "      <td>8502347174</td>\n",
       "      <td>1092716</td>\n",
       "      <td>79680915</td>\n",
       "      <td>1017463</td>\n",
       "      <td>voip</td>\n",
       "    </tr>\n",
       "  </tbody>\n",
       "</table>\n",
       "</div>"
      ],
      "text/plain": [
       "          dp_id  in_port            eth_dst  packets   bytes  duration_sec  \\\n",
       "0  3.390000e+13        1  86:08:c1:b2:a1:06      491   75716            13   \n",
       "1  3.390000e+13        2  5e:b4:50:71:9d:aa      341   45745            13   \n",
       "2  1.390000e+14        1  5e:b4:50:71:9d:aa      343   46020            13   \n",
       "3  1.390000e+14        2  86:08:c1:b2:a1:06      494   76185            13   \n",
       "4  3.390000e+13        1  86:08:c1:b2:a1:06     1244  193435            18   \n",
       "5  3.390000e+13        2  5e:b4:50:71:9d:aa      843  114770            18   \n",
       "6  1.390000e+14        1  5e:b4:50:71:9d:aa      843  114770            18   \n",
       "7  1.390000e+14        2  86:08:c1:b2:a1:06     1244  193435            18   \n",
       "8  3.390000e+13        1  86:08:c1:b2:a1:06     1994  310685            23   \n",
       "9  3.390000e+13        2  5e:b4:50:71:9d:aa     1343  183520            23   \n",
       "\n",
       "   length  port_no    rx_bytes  rx_pkts    tx_bytes  tx_pkts target  \n",
       "0      96        1    79449692  1015986  8502207197  1091698   voip  \n",
       "1      96        2  8502209399  1091714    79445946  1015960   voip  \n",
       "2      96        1  8504362430  1125116    79448215  1016005   voip  \n",
       "3      96        2    79457301  1016065  8504357092  1125078   voip  \n",
       "4      96        1    79567411  1016739  8502276222  1092200   voip  \n",
       "5      96        2  8502278424  1092216    79563665  1016713   voip  \n",
       "6      96        1  8504431180  1125616    79565465  1016755   voip  \n",
       "7      96        2    79574551  1016815  8504425842  1125578   voip  \n",
       "8      96        1    79684661  1017489  8502344972  1092700   voip  \n",
       "9      96        2  8502347174  1092716    79680915  1017463   voip  "
      ]
     },
     "execution_count": 181,
     "metadata": {},
     "output_type": "execute_result"
    }
   ],
   "source": [
    "df = pd.read_csv(\"./flow1.csv\")\n",
    "org = pd.read_csv(\"./flow1.csv\")\n",
    "df[:10]"
   ]
  },
  {
   "cell_type": "code",
   "execution_count": 182,
   "metadata": {
    "collapsed": false
   },
   "outputs": [
    {
     "data": {
      "text/plain": [
       "voip              1392\n",
       "vimeo             1048\n",
       "cbc                760\n",
       "youtube            752\n",
       "hangout            708\n",
       "google hangout     358\n",
       "Name: target, dtype: int64"
      ]
     },
     "execution_count": 182,
     "metadata": {},
     "output_type": "execute_result"
    }
   ],
   "source": [
    "df[\"target\"].value_counts()"
   ]
  },
  {
   "cell_type": "code",
   "execution_count": 183,
   "metadata": {
    "collapsed": false
   },
   "outputs": [
    {
     "data": {
      "text/plain": [
       "message    2458\n",
       "video      1800\n",
       "browse      760\n",
       "Name: target, dtype: int64"
      ]
     },
     "execution_count": 183,
     "metadata": {},
     "output_type": "execute_result"
    }
   ],
   "source": [
    "#Qos class\n",
    "df.loc[df[\"target\"] == \"google hangout\",\"target\"] = \"hangout\"\n",
    "df.loc[df[\"target\"] == \"hangout\",\"target\"] = \"message\"\n",
    "df.loc[df[\"target\"] == \"voip\",\"target\"] = \"message\"\n",
    "df.loc[df[\"target\"] == \"vimeo\",\"target\"] = \"video\"\n",
    "df.loc[df[\"target\"] == \"youtube\",\"target\"] = \"video\"\n",
    "df.loc[df[\"target\"] == \"cbc\",\"target\"] = \"browse\"\n",
    "df[\"target\"].value_counts()"
   ]
  },
  {
   "cell_type": "code",
   "execution_count": 184,
   "metadata": {
    "collapsed": false
   },
   "outputs": [
    {
     "data": {
      "text/plain": [
       "5e:b4:50:71:9d:aa    2510\n",
       "86:08:c1:b2:a1:06    2508\n",
       "Name: eth_dst, dtype: int64"
      ]
     },
     "execution_count": 184,
     "metadata": {},
     "output_type": "execute_result"
    }
   ],
   "source": [
    "df[\"eth_dst\"].value_counts()"
   ]
  },
  {
   "cell_type": "code",
   "execution_count": 185,
   "metadata": {
    "collapsed": false
   },
   "outputs": [
    {
     "data": {
      "text/plain": [
       "96    5018\n",
       "Name: length, dtype: int64"
      ]
     },
     "execution_count": 185,
     "metadata": {},
     "output_type": "execute_result"
    }
   ],
   "source": [
    "df[\"length\"].value_counts()"
   ]
  },
  {
   "cell_type": "markdown",
   "metadata": {},
   "source": [
    "### data cleaning"
   ]
  },
  {
   "cell_type": "code",
   "execution_count": 186,
   "metadata": {
    "collapsed": false
   },
   "outputs": [],
   "source": [
    "df1 = df\n",
    "df1[\"target\"] = preprocessing.LabelEncoder().fit_transform(df1[\"target\"])\n",
    "df1 = df1.drop([\"length\",\"in_port\"],axis=1)"
   ]
  },
  {
   "cell_type": "code",
   "execution_count": 187,
   "metadata": {
    "collapsed": false
   },
   "outputs": [],
   "source": [
    "df1[\"by_per_pkt\"] = df1[\"bytes\"]/df1[\"packets\"]\n",
    "headers = [\"dp_id\",\"packets\",\"bytes\",\"by_per_pkt\",\"duration_sec\",\"rx_bytes\",\"rx_pkts\",\"tx_bytes\",\"tx_pkts\",\"target\"]\n",
    "df1 = df1[headers]"
   ]
  },
  {
   "cell_type": "code",
   "execution_count": 188,
   "metadata": {
    "collapsed": false
   },
   "outputs": [
    {
     "data": {
      "text/plain": [
       "1    2458\n",
       "2    1800\n",
       "0     760\n",
       "Name: target, dtype: int64"
      ]
     },
     "execution_count": 188,
     "metadata": {},
     "output_type": "execute_result"
    }
   ],
   "source": [
    "df1[\"target\"].value_counts()"
   ]
  },
  {
   "cell_type": "markdown",
   "metadata": {},
   "source": [
    "message: 1 \n",
    "video:2\n",
    "browse:0"
   ]
  },
  {
   "cell_type": "code",
   "execution_count": 189,
   "metadata": {
    "collapsed": false
   },
   "outputs": [],
   "source": [
    "import seaborn as sns\n",
    "# X = df1[headers]  #independent columns\n",
    "# y = df1[\"target\"]   #target column i.e price range\n",
    "#get correlations of each features in dataset\n",
    "corrmat = df1.corr()\n",
    "top_corr_features = corrmat.index\n",
    "plt.figure(figsize=(20,20))\n",
    "#plot heat map\n",
    "g=sns.heatmap(df1[top_corr_features].corr(),annot=True,cmap=\"RdYlGn\")"
   ]
  },
  {
   "cell_type": "code",
   "execution_count": 190,
   "metadata": {
    "collapsed": false,
    "scrolled": true
   },
   "outputs": [
    {
     "data": {
      "image/png": "[encoded data removed]",
      "text/plain": [
       "<matplotlib.figure.Figure at 0x11009c400>"
      ]
     },
     "metadata": {},
     "output_type": "display_data"
    }
   ],
   "source": [
    "plt.show()\n",
    "# plt.savefig(\"heatmap\")"
   ]
  },
  {
   "cell_type": "code",
   "execution_count": 193,
   "metadata": {
    "collapsed": false
   },
   "outputs": [
    {
     "name": "stdout",
     "output_type": "stream",
     "text": [
      "          Specs         Score\n",
      "2         bytes  2.580096e+12\n",
      "7      tx_bytes  1.343549e+12\n",
      "5      rx_bytes  1.331437e+12\n",
      "1       packets  8.013444e+08\n",
      "8       tx_pkts  3.964553e+08\n",
      "6       rx_pkts  3.962175e+08\n",
      "3    by_per_pkt  4.863503e+06\n",
      "4  duration_sec  3.796773e+03\n"
     ]
    }
   ],
   "source": [
    "features1 = [\"dp_id\",\"packets\",\"bytes\",\"by_per_pkt\",\"duration_sec\",\"rx_bytes\",\"rx_pkts\",\"tx_bytes\",\"tx_pkts\"]\n",
    "selector = SelectKBest(score_func=chi2, k=8)\n",
    "fit = selector.fit(df1[features1],df1[\"target\"])\n",
    "dfscores = pd.DataFrame(fit.scores_)\n",
    "dfcolumns = pd.DataFrame(headers)\n",
    "#concat two dataframes for better visualization \n",
    "featureScores = pd.concat([dfcolumns,dfscores],axis=1)\n",
    "featureScores.columns = ['Specs','Score']  #naming the dataframe columns\n",
    "print(featureScores.nlargest(8,'Score'))  #print the feature score"
   ]
  },
  {
   "cell_type": "code",
   "execution_count": 194,
   "metadata": {
    "collapsed": false
   },
   "outputs": [
    {
     "data": {
      "text/plain": [
       "array([1, 1, 1, ..., 2, 2, 2])"
      ]
     },
     "execution_count": 194,
     "metadata": {},
     "output_type": "execute_result"
    }
   ],
   "source": [
    "features = [\"by_per_pkt\",\"rx_pkts\",\"tx_pkts\"]\n",
    "# features = [\"rx_pkts\",\"tx_pkts\",\"packets\"]\n",
    "y = preprocessing.LabelEncoder().fit_transform(df[\"target\"])\n",
    "y"
   ]
  },
  {
   "cell_type": "code",
   "execution_count": 196,
   "metadata": {
    "collapsed": false
   },
   "outputs": [
    {
     "data": {
      "text/html": [
       "<div>\n",
       "<table border=\"1\" class=\"dataframe\">\n",
       "  <thead>\n",
       "    <tr style=\"text-align: right;\">\n",
       "      <th></th>\n",
       "      <th>by_per_pkt</th>\n",
       "      <th>rx_pkts</th>\n",
       "      <th>tx_pkts</th>\n",
       "    </tr>\n",
       "  </thead>\n",
       "  <tbody>\n",
       "    <tr>\n",
       "      <th>0</th>\n",
       "      <td>0.010219</td>\n",
       "      <td>0.000000</td>\n",
       "      <td>0.009909</td>\n",
       "    </tr>\n",
       "    <tr>\n",
       "      <th>1</th>\n",
       "      <td>0.007710</td>\n",
       "      <td>0.009907</td>\n",
       "      <td>0.000000</td>\n",
       "    </tr>\n",
       "    <tr>\n",
       "      <th>2</th>\n",
       "      <td>0.007713</td>\n",
       "      <td>0.014277</td>\n",
       "      <td>0.000006</td>\n",
       "    </tr>\n",
       "    <tr>\n",
       "      <th>3</th>\n",
       "      <td>0.010220</td>\n",
       "      <td>0.000010</td>\n",
       "      <td>0.014277</td>\n",
       "    </tr>\n",
       "  </tbody>\n",
       "</table>\n",
       "</div>"
      ],
      "text/plain": [
       "   by_per_pkt   rx_pkts   tx_pkts\n",
       "0    0.010219  0.000000  0.009909\n",
       "1    0.007710  0.009907  0.000000\n",
       "2    0.007713  0.014277  0.000006\n",
       "3    0.010220  0.000010  0.014277"
      ]
     },
     "execution_count": 196,
     "metadata": {},
     "output_type": "execute_result"
    }
   ],
   "source": [
    "scaler = preprocessing.MinMaxScaler(feature_range=(0,1))\n",
    "df1[features] = scaler.fit_transform(df1[features])\n",
    "x = df1[features]\n",
    "x[:4]"
   ]
  },
  {
   "cell_type": "code",
   "execution_count": 197,
   "metadata": {
    "collapsed": false
   },
   "outputs": [],
   "source": [
    "X_train, X_test, y_train, y_test = train_test_split(x, y, test_size=0.20, random_state=None)"
   ]
  },
  {
   "cell_type": "code",
   "execution_count": 198,
   "metadata": {
    "collapsed": true
   },
   "outputs": [],
   "source": [
    "kmeans = KMeans(n_clusters=3, random_state=5,n_init=50,precompute_distances=True).fit(X_train)"
   ]
  },
  {
   "cell_type": "code",
   "execution_count": 199,
   "metadata": {
    "collapsed": false
   },
   "outputs": [],
   "source": [
    "predict = kmeans.predict(X_test)"
   ]
  },
  {
   "cell_type": "code",
   "execution_count": 200,
   "metadata": {
    "collapsed": false
   },
   "outputs": [
    {
     "data": {
      "text/plain": [
       "239.28729100604968"
      ]
     },
     "execution_count": 200,
     "metadata": {},
     "output_type": "execute_result"
    }
   ],
   "source": [
    "kmeans.inertia_"
   ]
  },
  {
   "cell_type": "code",
   "execution_count": 201,
   "metadata": {
    "collapsed": false
   },
   "outputs": [
    {
     "data": {
      "text/plain": [
       "3"
      ]
     },
     "execution_count": 201,
     "metadata": {},
     "output_type": "execute_result"
    }
   ],
   "source": [
    "kmeans.n_iter_"
   ]
  },
  {
   "cell_type": "code",
   "execution_count": 244,
   "metadata": {
    "collapsed": false
   },
   "outputs": [
    {
     "name": "stdout",
     "output_type": "stream",
     "text": [
      "accuracy: 0.5249003984063745\n"
     ]
    }
   ],
   "source": [
    "lable_dict = {2:2,1:1,0:0}\n",
    "count = 0\n",
    "for i in range(0,len(y_test)):\n",
    "    if lable_dict[y_test[i]] != predict[i]:\n",
    "        count = count + 1\n",
    "accuracy = 1 - count/len(y_test)\n",
    "print(\"accuracy:\",accuracy)"
   ]
  },
  {
   "cell_type": "code",
   "execution_count": 203,
   "metadata": {
    "collapsed": false
   },
   "outputs": [
    {
     "data": {
      "text/plain": [
       "array([[0.0320523 , 0.63876215, 0.65626654],\n",
       "       [0.02082275, 0.12546152, 0.12477941],\n",
       "       [0.6184325 , 0.69393708, 0.62877855]])"
      ]
     },
     "execution_count": 203,
     "metadata": {},
     "output_type": "execute_result"
    }
   ],
   "source": [
    "kmeans.cluster_centers_"
   ]
  },
  {
   "cell_type": "code",
   "execution_count": 204,
   "metadata": {
    "collapsed": false
   },
   "outputs": [
    {
     "data": {
      "text/plain": [
       "array([0, 0, 2, ..., 0, 0, 0], dtype=int32)"
      ]
     },
     "execution_count": 204,
     "metadata": {},
     "output_type": "execute_result"
    }
   ],
   "source": [
    "kmeans.labels_"
   ]
  },
  {
   "cell_type": "code",
   "execution_count": 243,
   "metadata": {
    "collapsed": false
   },
   "outputs": [],
   "source": [
    "# df[df[\"target\"] == 1]"
   ]
  },
  {
   "cell_type": "code",
   "execution_count": 206,
   "metadata": {
    "collapsed": false
   },
   "outputs": [],
   "source": [
    "org[\"new\"] = org[\"bytes\"]/org[\"packets\"]"
   ]
  },
  {
   "cell_type": "code",
   "execution_count": 246,
   "metadata": {
    "collapsed": false
   },
   "outputs": [],
   "source": [
    "# org[org[\"target\"] == \"hangout\"]"
   ]
  },
  {
   "cell_type": "code",
   "execution_count": 237,
   "metadata": {
    "collapsed": false
   },
   "outputs": [],
   "source": [
    "x1 = df1[1250:1274]\n",
    "x1 = x1[features]"
   ]
  },
  {
   "cell_type": "code",
   "execution_count": 238,
   "metadata": {
    "collapsed": false
   },
   "outputs": [],
   "source": [
    "pre = kmeans.predict(x1)"
   ]
  },
  {
   "cell_type": "code",
   "execution_count": 239,
   "metadata": {
    "collapsed": false
   },
   "outputs": [
    {
     "data": {
      "text/plain": [
       "array([0, 0, 0, 0, 0, 0, 0, 0, 0, 0, 0, 0, 0, 0, 0, 0, 0, 0, 0, 0, 0, 0,\n",
       "       0, 0], dtype=int32)"
      ]
     },
     "execution_count": 239,
     "metadata": {},
     "output_type": "execute_result"
    }
   ],
   "source": [
    "pre"
   ]
  },
  {
   "cell_type": "code",
   "execution_count": 247,
   "metadata": {
    "collapsed": false
   },
   "outputs": [
    {
     "data": {
      "text/plain": [
       "['kmeans_model_qos.pkl']"
      ]
     },
     "execution_count": 247,
     "metadata": {},
     "output_type": "execute_result"
    }
   ],
   "source": [
    "# from sklearn.externals import joblib\n",
    "# joblib.dump(kmeans,'kmeans_model_qos.pkl',compress=9)"
   ]
  }
 ],
 "metadata": {
  "anaconda-cloud": {},
  "kernelspec": {
   "display_name": "Python [conda env:anaconda3]",
   "language": "python",
   "name": "conda-env-anaconda3-py"
  },
  "language_info": {
   "codemirror_mode": {
    "name": "ipython",
    "version": 3
   },
   "file_extension": ".py",
   "mimetype": "text/x-python",
   "name": "python",
   "nbconvert_exporter": "python",
   "pygments_lexer": "ipython3",
   "version": "3.5.2"
  }
 },
 "nbformat": 4,
 "nbformat_minor": 1
}
