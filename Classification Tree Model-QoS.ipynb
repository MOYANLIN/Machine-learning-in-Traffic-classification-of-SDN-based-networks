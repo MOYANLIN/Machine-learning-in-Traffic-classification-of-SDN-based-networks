{
 "cells": [
  {
   "cell_type": "markdown",
   "metadata": {},
   "source": [
    "## Classification Tree\n",
    "\n",
    "Create a classification tree\n",
    "\n",
    " 1. Import the data from a csv file \n",
    " 2. Create the predictor variables and the target variable\n",
    " 3. Split the data into train and test dataset\n",
    " 4. Fit a decision tree model on train data \n",
    " 5. Visualize the decision tree model\n",
    " 6. Make Predictions and evaluate the performance\n"
   ]
  },
  {
   "cell_type": "markdown",
   "metadata": {},
   "source": [
    "## Import the data"
   ]
  },
  {
   "cell_type": "markdown",
   "metadata": {},
   "source": [
    "We will input raw data of a flow and port statistics from a CSV file. Predictor and target variables are created using this raw data. "
   ]
  },
  {
   "cell_type": "code",
   "execution_count": 12,
   "metadata": {
    "collapsed": true
   },
   "outputs": [],
   "source": [
    "import pandas as pd\n",
    "\n",
    "#read voip data\n",
    "voip_flow = pd.read_csv('voip_FlowStats.csv', index_col=False).dropna().drop(columns=\"target\")\n",
    "#print(voip_flow.shape)\n",
    "voip_port = pd.read_csv('voip_PortStats.csv', index_col=False).dropna()\n",
    "voip_port = voip_port.drop(voip_port[pd.to_numeric(voip_port.port_no) > 10].index)\n",
    "#print(voip_port.shape)\n",
    "voip=pd.concat([voip_flow, voip_port], axis=1, join='inner')\n",
    "voip[\"app_label\"]=2  #voip\n",
    "#voip.head(10)\n",
    "\n",
    "\n",
    "#read video data\n",
    "youtube_flow = pd.read_csv('youtube_FlowStats.csv', index_col=False).dropna().drop(columns=\"target\")\n",
    "youtube_port = pd.read_csv('youtube_PortStats.csv', index_col=False).dropna()\n",
    "youtube_port = youtube_port.drop(youtube_port[pd.to_numeric(youtube_port.port_no) > 10].index)\n",
    "youtube=pd.concat([youtube_flow, youtube_port], axis=1, join='inner')\n",
    "youtube[\"app_label\"]=1  #video\n",
    "\n",
    "\n",
    "#read browse data\n",
    "browse_flow = pd.read_csv('browse_FlowStats.csv', index_col=False).dropna().drop(columns=\"target\")\n",
    "browse_port = pd.read_csv('browse_PortStats.csv', index_col=False).dropna()\n",
    "browse_port = browse_port.drop(browse_port[pd.to_numeric(browse_port.port_no) > 10].index)\n",
    "browse=pd.concat([browse_flow, browse_port], axis=1, join='inner')\n",
    "browse[\"app_label\"]=3  #cbc\n",
    "\n",
    "\n",
    "#read vimeo data\n",
    "vimeo_flow =  pd.read_csv('vimeo_FlowStats.csv', index_col=False).dropna().drop(columns=\"target\")\n",
    "vimeo_port = pd.read_csv('vimeo_PortStats.csv', index_col=False).dropna()\n",
    "vimeo_port = vimeo_port.drop(vimeo_port[pd.to_numeric(vimeo_port.port_no) > 10].index)\n",
    "vimeo=pd.concat([vimeo_flow, vimeo_port], axis=1, join='inner')\n",
    "vimeo[\"app_label\"] = 1 #vimeo\n",
    "vimeo.head(10)\n",
    "\n",
    "hangout_flow =  pd.read_csv('hangout_FlowStats.csv', index_col=False).dropna().drop(columns=\"target\")\n",
    "hangout_port = pd.read_csv('hangout_PortStats.csv', index_col=False).dropna()\n",
    "hangout_port = hangout_port.drop(hangout_port[pd.to_numeric(hangout_port.port_no) > 10].index)\n",
    "hangout=pd.concat([hangout_flow, hangout_port], axis=1, join='inner')\n",
    "hangout[\"app_label\"] = 2 #hangout\n",
    "#hangout.head(10)\n",
    "\n",
    "\n",
    "#stack up in column\n",
    "data=pd.concat([voip, youtube, browse, vimeo, hangout], axis=0, sort=False)\n",
    "data.head(10)\n",
    "\n",
    "\n",
    "\n",
    "\n",
    "feature_list = ['in_port', 'packets', 'bytes', 'duration_sec', 'port_no','rx_bytes', 'rx_pkts', 'tx_bytes','tx_pkts']\n",
    "X = data[feature_list]\n",
    "y = data.app_label\n"
   ]
  },
  {
   "cell_type": "markdown",
   "metadata": {},
   "source": [
    "## Split the data into train and test dataset\n",
    "\n",
    "Before we build a decision tree model, we need to split the data set into train and test data. A decision tree model uses the train data to learn the properties of data and the test data to estimate the model’s accuracy of the predictions.\n",
    "\n",
    "From sklearn, we use the sub-library called model_selection, and import the train_test_split method. We will use 70% of the data set for training the model and a hold back of 30% for testing. We set the random_state parameter to a fixed number. This ensures that the data is split the same way every time and we get the same model output for each run. \n",
    "\n",
    "Another thing to keep in mind during splitting is to ensure that the test data is representative of the train data. This is done using stratify. We assign  stratify = y, so that it splits the data in same proportion as ‘y’. That means if ‘0’s were 45% and ‘1’s 55% in ‘y’, the train and test data will continue to have the same proportion of 45% and 55% of the class labels. \n"
   ]
  },
  {
   "cell_type": "code",
   "execution_count": 13,
   "metadata": {},
   "outputs": [
    {
     "name": "stdout",
     "output_type": "stream",
     "text": [
      "(2637, 9) (2637,)\n",
      "(1131, 9) (1131,)\n"
     ]
    }
   ],
   "source": [
    "from sklearn.model_selection import train_test_split\n",
    "X_train, X_test, y_train, y_test = train_test_split(X, y, test_size=0.3, random_state=42, stratify=y)\n",
    "\n",
    "print (X_train.shape, y_train.shape)\n",
    "print (X_test.shape, y_test.shape)\n"
   ]
  },
  {
   "cell_type": "markdown",
   "metadata": {},
   "source": [
    "## Create classification tree model\n",
    "\n",
    "We have used DecisionTreeClassifier from sklearn.tree to create the classification tree model. We choose to set min_samples_leaf to 5. "
   ]
  },
  {
   "cell_type": "code",
   "execution_count": 14,
   "metadata": {},
   "outputs": [
    {
     "data": {
      "text/plain": [
       "DecisionTreeClassifier(class_weight=None, criterion='gini', max_depth=5,\n",
       "            max_features=None, max_leaf_nodes=None,\n",
       "            min_impurity_decrease=0.0, min_impurity_split=None,\n",
       "            min_samples_leaf=5, min_samples_split=2,\n",
       "            min_weight_fraction_leaf=0.0, presort=False, random_state=None,\n",
       "            splitter='best')"
      ]
     },
     "execution_count": 14,
     "metadata": {},
     "output_type": "execute_result"
    }
   ],
   "source": [
    "from sklearn.tree import DecisionTreeClassifier\n",
    "clf = DecisionTreeClassifier(criterion='gini', max_depth=5, min_samples_leaf=5) \n",
    "clf"
   ]
  },
  {
   "cell_type": "markdown",
   "metadata": {},
   "source": [
    "We create the fit() method to train the classifier on the train dataset."
   ]
  },
  {
   "cell_type": "code",
   "execution_count": 15,
   "metadata": {
    "collapsed": true
   },
   "outputs": [],
   "source": [
    "clf = clf.fit(X_train, y_train)"
   ]
  },
  {
   "cell_type": "markdown",
   "metadata": {},
   "source": [
    "## Visualize the model\n",
    "\n",
    "We now visualize the classification tree created in the step below using the graphviz and sklearn's tree package."
   ]
  },
  {
   "cell_type": "code",
   "execution_count": 17,
   "metadata": {},
   "outputs": [
    {
     "data": {
      "image/svg+xml": [
       "<?xml version=\"1.0\" encoding=\"UTF-8\" standalone=\"no\"?>\r\n",
       "<!DOCTYPE svg PUBLIC \"-//W3C//DTD SVG 1.1//EN\"\r\n",
       " \"http://www.w3.org/Graphics/SVG/1.1/DTD/svg11.dtd\">\r\n",
       "<!-- Generated by graphviz version 2.38.0 (20140413.2041)\r\n",
       " -->\r\n",
       "<!-- Title: Tree Pages: 1 -->\r\n",
       "<svg width=\"566pt\" height=\"581pt\"\r\n",
       " viewBox=\"0.00 0.00 566.00 581.00\" xmlns=\"http://www.w3.org/2000/svg\" xmlns:xlink=\"http://www.w3.org/1999/xlink\">\r\n",
       "<g id=\"graph0\" class=\"graph\" transform=\"scale(1 1) rotate(0) translate(4 577)\">\r\n",
       "<title>Tree</title>\r\n",
       "<polygon fill=\"white\" stroke=\"none\" points=\"-4,4 -4,-577 562,-577 562,4 -4,4\"/>\r\n",
       "<!-- 0 -->\r\n",
       "<g id=\"node1\" class=\"node\"><title>0</title>\r\n",
       "<polygon fill=\"#39e581\" fill-opacity=\"0.003922\" stroke=\"black\" points=\"444,-573 285,-573 285,-505 444,-505 444,-573\"/>\r\n",
       "<text text-anchor=\"middle\" x=\"364.5\" y=\"-557.8\" font-family=\"Times New Roman,serif\" font-size=\"14.00\">packets &lt;= 135211.5</text>\r\n",
       "<text text-anchor=\"middle\" x=\"364.5\" y=\"-542.8\" font-family=\"Times New Roman,serif\" font-size=\"14.00\">gini = 0.641</text>\r\n",
       "<text text-anchor=\"middle\" x=\"364.5\" y=\"-527.8\" font-family=\"Times New Roman,serif\" font-size=\"14.00\">samples = 2637</text>\r\n",
       "<text text-anchor=\"middle\" x=\"364.5\" y=\"-512.8\" font-family=\"Times New Roman,serif\" font-size=\"14.00\">value = [1050, 1055, 532]</text>\r\n",
       "</g>\r\n",
       "<!-- 1 -->\r\n",
       "<g id=\"node2\" class=\"node\"><title>1</title>\r\n",
       "<polygon fill=\"#39e581\" fill-opacity=\"0.411765\" stroke=\"black\" points=\"363.5,-469 211.5,-469 211.5,-401 363.5,-401 363.5,-469\"/>\r\n",
       "<text text-anchor=\"middle\" x=\"287.5\" y=\"-453.8\" font-family=\"Times New Roman,serif\" font-size=\"14.00\">tx_pkts &lt;= 6986976.0</text>\r\n",
       "<text text-anchor=\"middle\" x=\"287.5\" y=\"-438.8\" font-family=\"Times New Roman,serif\" font-size=\"14.00\">gini = 0.555</text>\r\n",
       "<text text-anchor=\"middle\" x=\"287.5\" y=\"-423.8\" font-family=\"Times New Roman,serif\" font-size=\"14.00\">samples = 1800</text>\r\n",
       "<text text-anchor=\"middle\" x=\"287.5\" y=\"-408.8\" font-family=\"Times New Roman,serif\" font-size=\"14.00\">value = [213, 1055, 532]</text>\r\n",
       "</g>\r\n",
       "<!-- 0&#45;&gt;1 -->\r\n",
       "<g id=\"edge1\" class=\"edge\"><title>0&#45;&gt;1</title>\r\n",
       "<path fill=\"none\" stroke=\"black\" d=\"M339.5,-504.884C332.911,-496.154 325.717,-486.625 318.839,-477.514\"/>\r\n",
       "<polygon fill=\"black\" stroke=\"black\" points=\"321.456,-475.172 312.638,-469.299 315.869,-479.389 321.456,-475.172\"/>\r\n",
       "<text text-anchor=\"middle\" x=\"309.18\" y=\"-490.359\" font-family=\"Times New Roman,serif\" font-size=\"14.00\">True</text>\r\n",
       "</g>\r\n",
       "<!-- 12 -->\r\n",
       "<g id=\"node13\" class=\"node\"><title>12</title>\r\n",
       "<polygon fill=\"#e58139\" stroke=\"black\" points=\"501,-461.5 382,-461.5 382,-408.5 501,-408.5 501,-461.5\"/>\r\n",
       "<text text-anchor=\"middle\" x=\"441.5\" y=\"-446.3\" font-family=\"Times New Roman,serif\" font-size=\"14.00\">gini = 0.0</text>\r\n",
       "<text text-anchor=\"middle\" x=\"441.5\" y=\"-431.3\" font-family=\"Times New Roman,serif\" font-size=\"14.00\">samples = 837</text>\r\n",
       "<text text-anchor=\"middle\" x=\"441.5\" y=\"-416.3\" font-family=\"Times New Roman,serif\" font-size=\"14.00\">value = [837, 0, 0]</text>\r\n",
       "</g>\r\n",
       "<!-- 0&#45;&gt;12 -->\r\n",
       "<g id=\"edge12\" class=\"edge\"><title>0&#45;&gt;12</title>\r\n",
       "<path fill=\"none\" stroke=\"black\" d=\"M389.5,-504.884C398.051,-493.556 407.62,-480.88 416.195,-469.521\"/>\r\n",
       "<polygon fill=\"black\" stroke=\"black\" points=\"419.003,-471.61 422.235,-461.52 413.416,-467.392 419.003,-471.61\"/>\r\n",
       "<text text-anchor=\"middle\" x=\"425.693\" y=\"-482.58\" font-family=\"Times New Roman,serif\" font-size=\"14.00\">False</text>\r\n",
       "</g>\r\n",
       "<!-- 2 -->\r\n",
       "<g id=\"node3\" class=\"node\"><title>2</title>\r\n",
       "<polygon fill=\"#39e581\" fill-opacity=\"0.058824\" stroke=\"black\" points=\"279.5,-365 133.5,-365 133.5,-297 279.5,-297 279.5,-365\"/>\r\n",
       "<text text-anchor=\"middle\" x=\"206.5\" y=\"-349.8\" font-family=\"Times New Roman,serif\" font-size=\"14.00\">tx_pkts &lt;= 4826055.5</text>\r\n",
       "<text text-anchor=\"middle\" x=\"206.5\" y=\"-334.8\" font-family=\"Times New Roman,serif\" font-size=\"14.00\">gini = 0.617</text>\r\n",
       "<text text-anchor=\"middle\" x=\"206.5\" y=\"-319.8\" font-family=\"Times New Roman,serif\" font-size=\"14.00\">samples = 1311</text>\r\n",
       "<text text-anchor=\"middle\" x=\"206.5\" y=\"-304.8\" font-family=\"Times New Roman,serif\" font-size=\"14.00\">value = [201, 578, 532]</text>\r\n",
       "</g>\r\n",
       "<!-- 1&#45;&gt;2 -->\r\n",
       "<g id=\"edge2\" class=\"edge\"><title>1&#45;&gt;2</title>\r\n",
       "<path fill=\"none\" stroke=\"black\" d=\"M261.202,-400.884C254.199,-392.065 246.547,-382.43 239.245,-373.235\"/>\r\n",
       "<polygon fill=\"black\" stroke=\"black\" points=\"241.903,-370.954 232.944,-365.299 236.422,-375.307 241.903,-370.954\"/>\r\n",
       "</g>\r\n",
       "<!-- 9 -->\r\n",
       "<g id=\"node10\" class=\"node\"><title>9</title>\r\n",
       "<polygon fill=\"#39e581\" fill-opacity=\"0.976471\" stroke=\"black\" points=\"439,-365 298,-365 298,-297 439,-297 439,-365\"/>\r\n",
       "<text text-anchor=\"middle\" x=\"368.5\" y=\"-349.8\" font-family=\"Times New Roman,serif\" font-size=\"14.00\">rx_pkts &lt;= 6953661.5</text>\r\n",
       "<text text-anchor=\"middle\" x=\"368.5\" y=\"-334.8\" font-family=\"Times New Roman,serif\" font-size=\"14.00\">gini = 0.048</text>\r\n",
       "<text text-anchor=\"middle\" x=\"368.5\" y=\"-319.8\" font-family=\"Times New Roman,serif\" font-size=\"14.00\">samples = 489</text>\r\n",
       "<text text-anchor=\"middle\" x=\"368.5\" y=\"-304.8\" font-family=\"Times New Roman,serif\" font-size=\"14.00\">value = [12, 477, 0]</text>\r\n",
       "</g>\r\n",
       "<!-- 1&#45;&gt;9 -->\r\n",
       "<g id=\"edge9\" class=\"edge\"><title>1&#45;&gt;9</title>\r\n",
       "<path fill=\"none\" stroke=\"black\" d=\"M313.798,-400.884C320.801,-392.065 328.453,-382.43 335.755,-373.235\"/>\r\n",
       "<polygon fill=\"black\" stroke=\"black\" points=\"338.578,-375.307 342.056,-365.299 333.097,-370.954 338.578,-375.307\"/>\r\n",
       "</g>\r\n",
       "<!-- 3 -->\r\n",
       "<g id=\"node4\" class=\"node\"><title>3</title>\r\n",
       "<polygon fill=\"#39e581\" stroke=\"black\" points=\"119,-253.5 -7.10543e-015,-253.5 -7.10543e-015,-200.5 119,-200.5 119,-253.5\"/>\r\n",
       "<text text-anchor=\"middle\" x=\"59.5\" y=\"-238.3\" font-family=\"Times New Roman,serif\" font-size=\"14.00\">gini = 0.0</text>\r\n",
       "<text text-anchor=\"middle\" x=\"59.5\" y=\"-223.3\" font-family=\"Times New Roman,serif\" font-size=\"14.00\">samples = 383</text>\r\n",
       "<text text-anchor=\"middle\" x=\"59.5\" y=\"-208.3\" font-family=\"Times New Roman,serif\" font-size=\"14.00\">value = [0, 383, 0]</text>\r\n",
       "</g>\r\n",
       "<!-- 2&#45;&gt;3 -->\r\n",
       "<g id=\"edge3\" class=\"edge\"><title>2&#45;&gt;3</title>\r\n",
       "<path fill=\"none\" stroke=\"black\" d=\"M158.773,-296.884C141.338,-284.786 121.688,-271.151 104.499,-259.224\"/>\r\n",
       "<polygon fill=\"black\" stroke=\"black\" points=\"106.49,-256.345 96.2787,-253.52 102.499,-262.096 106.49,-256.345\"/>\r\n",
       "</g>\r\n",
       "<!-- 4 -->\r\n",
       "<g id=\"node5\" class=\"node\"><title>4</title>\r\n",
       "<polygon fill=\"#8139e5\" fill-opacity=\"0.454902\" stroke=\"black\" points=\"283.5,-261 137.5,-261 137.5,-193 283.5,-193 283.5,-261\"/>\r\n",
       "<text text-anchor=\"middle\" x=\"210.5\" y=\"-245.8\" font-family=\"Times New Roman,serif\" font-size=\"14.00\">rx_pkts &lt;= 4825124.5</text>\r\n",
       "<text text-anchor=\"middle\" x=\"210.5\" y=\"-230.8\" font-family=\"Times New Roman,serif\" font-size=\"14.00\">gini = 0.58</text>\r\n",
       "<text text-anchor=\"middle\" x=\"210.5\" y=\"-215.8\" font-family=\"Times New Roman,serif\" font-size=\"14.00\">samples = 928</text>\r\n",
       "<text text-anchor=\"middle\" x=\"210.5\" y=\"-200.8\" font-family=\"Times New Roman,serif\" font-size=\"14.00\">value = [201, 195, 532]</text>\r\n",
       "</g>\r\n",
       "<!-- 2&#45;&gt;4 -->\r\n",
       "<g id=\"edge4\" class=\"edge\"><title>2&#45;&gt;4</title>\r\n",
       "<path fill=\"none\" stroke=\"black\" d=\"M207.799,-296.884C208.117,-288.778 208.461,-279.982 208.795,-271.472\"/>\r\n",
       "<polygon fill=\"black\" stroke=\"black\" points=\"212.3,-271.429 209.194,-261.299 205.305,-271.155 212.3,-271.429\"/>\r\n",
       "</g>\r\n",
       "<!-- 5 -->\r\n",
       "<g id=\"node6\" class=\"node\"><title>5</title>\r\n",
       "<polygon fill=\"#39e581\" stroke=\"black\" points=\"198,-149.5 79,-149.5 79,-96.5 198,-96.5 198,-149.5\"/>\r\n",
       "<text text-anchor=\"middle\" x=\"138.5\" y=\"-134.3\" font-family=\"Times New Roman,serif\" font-size=\"14.00\">gini = 0.0</text>\r\n",
       "<text text-anchor=\"middle\" x=\"138.5\" y=\"-119.3\" font-family=\"Times New Roman,serif\" font-size=\"14.00\">samples = 195</text>\r\n",
       "<text text-anchor=\"middle\" x=\"138.5\" y=\"-104.3\" font-family=\"Times New Roman,serif\" font-size=\"14.00\">value = [0, 195, 0]</text>\r\n",
       "</g>\r\n",
       "<!-- 4&#45;&gt;5 -->\r\n",
       "<g id=\"edge5\" class=\"edge\"><title>4&#45;&gt;5</title>\r\n",
       "<path fill=\"none\" stroke=\"black\" d=\"M187.124,-192.884C179.205,-181.666 170.354,-169.126 162.395,-157.852\"/>\r\n",
       "<polygon fill=\"black\" stroke=\"black\" points=\"165.14,-155.671 156.514,-149.52 159.422,-159.708 165.14,-155.671\"/>\r\n",
       "</g>\r\n",
       "<!-- 6 -->\r\n",
       "<g id=\"node7\" class=\"node\"><title>6</title>\r\n",
       "<polygon fill=\"#8139e5\" fill-opacity=\"0.623529\" stroke=\"black\" points=\"348.5,-157 216.5,-157 216.5,-89 348.5,-89 348.5,-157\"/>\r\n",
       "<text text-anchor=\"middle\" x=\"282.5\" y=\"-141.8\" font-family=\"Times New Roman,serif\" font-size=\"14.00\">packets &lt;= 35627.5</text>\r\n",
       "<text text-anchor=\"middle\" x=\"282.5\" y=\"-126.8\" font-family=\"Times New Roman,serif\" font-size=\"14.00\">gini = 0.398</text>\r\n",
       "<text text-anchor=\"middle\" x=\"282.5\" y=\"-111.8\" font-family=\"Times New Roman,serif\" font-size=\"14.00\">samples = 733</text>\r\n",
       "<text text-anchor=\"middle\" x=\"282.5\" y=\"-96.8\" font-family=\"Times New Roman,serif\" font-size=\"14.00\">value = [201, 0, 532]</text>\r\n",
       "</g>\r\n",
       "<!-- 4&#45;&gt;6 -->\r\n",
       "<g id=\"edge6\" class=\"edge\"><title>4&#45;&gt;6</title>\r\n",
       "<path fill=\"none\" stroke=\"black\" d=\"M233.876,-192.884C240.038,-184.154 246.765,-174.625 253.196,-165.514\"/>\r\n",
       "<polygon fill=\"black\" stroke=\"black\" points=\"256.087,-167.487 258.995,-157.299 250.368,-163.451 256.087,-167.487\"/>\r\n",
       "</g>\r\n",
       "<!-- 7 -->\r\n",
       "<g id=\"node8\" class=\"node\"><title>7</title>\r\n",
       "<polygon fill=\"#8139e5\" fill-opacity=\"0.909804\" stroke=\"black\" points=\"275,-53 150,-53 150,-0 275,-0 275,-53\"/>\r\n",
       "<text text-anchor=\"middle\" x=\"212.5\" y=\"-37.8\" font-family=\"Times New Roman,serif\" font-size=\"14.00\">gini = 0.149</text>\r\n",
       "<text text-anchor=\"middle\" x=\"212.5\" y=\"-22.8\" font-family=\"Times New Roman,serif\" font-size=\"14.00\">samples = 579</text>\r\n",
       "<text text-anchor=\"middle\" x=\"212.5\" y=\"-7.8\" font-family=\"Times New Roman,serif\" font-size=\"14.00\">value = [47, 0, 532]</text>\r\n",
       "</g>\r\n",
       "<!-- 6&#45;&gt;7 -->\r\n",
       "<g id=\"edge7\" class=\"edge\"><title>6&#45;&gt;7</title>\r\n",
       "<path fill=\"none\" stroke=\"black\" d=\"M258.017,-88.9485C251.444,-80.0749 244.326,-70.4648 237.714,-61.5388\"/>\r\n",
       "<polygon fill=\"black\" stroke=\"black\" points=\"240.329,-59.189 231.564,-53.2367 234.704,-63.3556 240.329,-59.189\"/>\r\n",
       "</g>\r\n",
       "<!-- 8 -->\r\n",
       "<g id=\"node9\" class=\"node\"><title>8</title>\r\n",
       "<polygon fill=\"#e58139\" stroke=\"black\" points=\"412,-53 293,-53 293,-0 412,-0 412,-53\"/>\r\n",
       "<text text-anchor=\"middle\" x=\"352.5\" y=\"-37.8\" font-family=\"Times New Roman,serif\" font-size=\"14.00\">gini = 0.0</text>\r\n",
       "<text text-anchor=\"middle\" x=\"352.5\" y=\"-22.8\" font-family=\"Times New Roman,serif\" font-size=\"14.00\">samples = 154</text>\r\n",
       "<text text-anchor=\"middle\" x=\"352.5\" y=\"-7.8\" font-family=\"Times New Roman,serif\" font-size=\"14.00\">value = [154, 0, 0]</text>\r\n",
       "</g>\r\n",
       "<!-- 6&#45;&gt;8 -->\r\n",
       "<g id=\"edge8\" class=\"edge\"><title>6&#45;&gt;8</title>\r\n",
       "<path fill=\"none\" stroke=\"black\" d=\"M306.983,-88.9485C313.556,-80.0749 320.674,-70.4648 327.286,-61.5388\"/>\r\n",
       "<polygon fill=\"black\" stroke=\"black\" points=\"330.296,-63.3556 333.436,-53.2367 324.671,-59.189 330.296,-63.3556\"/>\r\n",
       "</g>\r\n",
       "<!-- 10 -->\r\n",
       "<g id=\"node11\" class=\"node\"><title>10</title>\r\n",
       "<polygon fill=\"#e58139\" stroke=\"black\" points=\"420.5,-253.5 308.5,-253.5 308.5,-200.5 420.5,-200.5 420.5,-253.5\"/>\r\n",
       "<text text-anchor=\"middle\" x=\"364.5\" y=\"-238.3\" font-family=\"Times New Roman,serif\" font-size=\"14.00\">gini = 0.0</text>\r\n",
       "<text text-anchor=\"middle\" x=\"364.5\" y=\"-223.3\" font-family=\"Times New Roman,serif\" font-size=\"14.00\">samples = 12</text>\r\n",
       "<text text-anchor=\"middle\" x=\"364.5\" y=\"-208.3\" font-family=\"Times New Roman,serif\" font-size=\"14.00\">value = [12, 0, 0]</text>\r\n",
       "</g>\r\n",
       "<!-- 9&#45;&gt;10 -->\r\n",
       "<g id=\"edge10\" class=\"edge\"><title>9&#45;&gt;10</title>\r\n",
       "<path fill=\"none\" stroke=\"black\" d=\"M367.201,-296.884C366.783,-286.216 366.318,-274.352 365.893,-263.519\"/>\r\n",
       "<polygon fill=\"black\" stroke=\"black\" points=\"369.39,-263.375 365.501,-253.52 362.395,-263.649 369.39,-263.375\"/>\r\n",
       "</g>\r\n",
       "<!-- 11 -->\r\n",
       "<g id=\"node12\" class=\"node\"><title>11</title>\r\n",
       "<polygon fill=\"#39e581\" stroke=\"black\" points=\"558,-253.5 439,-253.5 439,-200.5 558,-200.5 558,-253.5\"/>\r\n",
       "<text text-anchor=\"middle\" x=\"498.5\" y=\"-238.3\" font-family=\"Times New Roman,serif\" font-size=\"14.00\">gini = 0.0</text>\r\n",
       "<text text-anchor=\"middle\" x=\"498.5\" y=\"-223.3\" font-family=\"Times New Roman,serif\" font-size=\"14.00\">samples = 477</text>\r\n",
       "<text text-anchor=\"middle\" x=\"498.5\" y=\"-208.3\" font-family=\"Times New Roman,serif\" font-size=\"14.00\">value = [0, 477, 0]</text>\r\n",
       "</g>\r\n",
       "<!-- 9&#45;&gt;11 -->\r\n",
       "<g id=\"edge11\" class=\"edge\"><title>9&#45;&gt;11</title>\r\n",
       "<path fill=\"none\" stroke=\"black\" d=\"M410.707,-296.884C425.846,-285.006 442.872,-271.646 457.874,-259.876\"/>\r\n",
       "<polygon fill=\"black\" stroke=\"black\" points=\"460.268,-262.446 465.975,-253.52 455.947,-256.939 460.268,-262.446\"/>\r\n",
       "</g>\r\n",
       "</g>\r\n",
       "</svg>\r\n"
      ],
      "text/plain": [
       "<graphviz.files.Source at 0x2befe4a2780>"
      ]
     },
     "execution_count": 17,
     "metadata": {},
     "output_type": "execute_result"
    }
   ],
   "source": [
    "import os\n",
    "#os.environ[\"PATH\"] += os.pathsep + 'C:/Users/academy/Documents/graphviz-2.38/release/bin/'\n",
    "#os.environ[\"PATH\"] += os.pathsep + 'C:/Program Files (x86)/Graphviz2.38/release/bin/'\n",
    "os.environ[\"PATH\"] += os.pathsep + 'C:/Program Files (x86)/Graphviz2.38/bin/'\n",
    "\n",
    "from sklearn import tree\n",
    "import graphviz\n",
    "dot_data = tree.export_graphviz(clf, out_file=None,filled=True,feature_names=feature_list)   \n",
    "graphviz.Source(dot_data) "
   ]
  },
  {
   "cell_type": "markdown",
   "metadata": {},
   "source": [
    "As can be seen in the tree, every node contains some information: \n",
    "    \n",
    " 1. the predictor variable used to split the data set: recall that X[0] is ADI, X[1] is RSI.  \n",
    " 2. the value of gini impurity, \n",
    " 3. the number of data points available at that node and \n",
    " 4. the number of target variable data points belonging to each class, 1 and 0.\n",
    "\n",
    "The left-most path leads to a pure node with 11 data points as ‘1’s, which can be used to define a long rule for a trading strategy. The decision rule can be paraphrased as ADX <= 32.446 and RSI <= 35.542. If during test, this condition is met for a  new data point, then, the model will predict a positive next day return for the stock."
   ]
  },
  {
   "cell_type": "markdown",
   "metadata": {},
   "source": [
    "## Make Predictions\n",
    "\n",
    "Once we have trained the decision tree classifier, we make predictions on the test data. To make predictions, the predict method of\n",
    "the DecisionTreeClassifier class is used.\n"
   ]
  },
  {
   "cell_type": "code",
   "execution_count": 18,
   "metadata": {
    "collapsed": true
   },
   "outputs": [],
   "source": [
    "y_pred = clf.predict(X_test)"
   ]
  },
  {
   "cell_type": "code",
   "execution_count": 19,
   "metadata": {},
   "outputs": [
    {
     "data": {
      "text/plain": [
       "['tree_qos.pkl']"
      ]
     },
     "execution_count": 19,
     "metadata": {},
     "output_type": "execute_result"
    }
   ],
   "source": [
    "from sklearn.externals import joblib\n",
    "joblib.dump(clf, 'tree_qos.pkl', compress=9)"
   ]
  },
  {
   "cell_type": "code",
   "execution_count": 20,
   "metadata": {},
   "outputs": [
    {
     "name": "stdout",
     "output_type": "stream",
     "text": [
      "0.981432360743\n"
     ]
    }
   ],
   "source": [
    "from sklearn.metrics import accuracy_score\n",
    "print(accuracy_score(y_test, y_pred))"
   ]
  },
  {
   "cell_type": "markdown",
   "metadata": {},
   "source": [
    "## Evaluate the Model Performance\n",
    "\n",
    "Scikit-learn provides performance report for classification problems. The report prints  measures like precision, recall, F1-score and support for each class. Precision and recall indicate the quality of our predictions. The f1-score gives the harmonic mean of precision and recall. The support values are used as weights to compute the average values of precision, recall and F-1.\n",
    "\n",
    "Anything above 0.5 is usually considered a good number. We have got an average recall of 0.65 which is good for this model.\n"
   ]
  },
  {
   "cell_type": "code",
   "execution_count": 21,
   "metadata": {},
   "outputs": [
    {
     "name": "stdout",
     "output_type": "stream",
     "text": [
      "              precision    recall  f1-score   support\n",
      "\n",
      "           1       1.00      0.95      0.98       450\n",
      "           2       1.00      1.00      1.00       453\n",
      "           3       0.92      1.00      0.96       228\n",
      "\n",
      "   micro avg       0.98      0.98      0.98      1131\n",
      "   macro avg       0.97      0.98      0.98      1131\n",
      "weighted avg       0.98      0.98      0.98      1131\n",
      "\n"
     ]
    }
   ],
   "source": [
    "from sklearn.metrics import classification_report\n",
    "report = classification_report(y_test, y_pred)\n",
    "print(report)"
   ]
  },
  {
   "cell_type": "markdown",
   "metadata": {},
   "source": [
    "## Summary \n",
    "\n",
    "In this notebook, we saw how a decision tree model can be coded in Python to predict the next day stock returns. In the next section, we will learn to build a trading strategy using a regression tree model. For now, let us move to ipython and code the strategy.  \n"
   ]
  }
 ],
 "metadata": {
  "kernelspec": {
   "display_name": "Python 3",
   "language": "python",
   "name": "python3"
  },
  "language_info": {
   "codemirror_mode": {
    "name": "ipython",
    "version": 3
   },
   "file_extension": ".py",
   "mimetype": "text/x-python",
   "name": "python",
   "nbconvert_exporter": "python",
   "pygments_lexer": "ipython3",
   "version": "3.5.6"
  }
 },
 "nbformat": 4,
 "nbformat_minor": 2
}
